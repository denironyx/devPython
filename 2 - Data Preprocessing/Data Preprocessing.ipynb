{
 "cells": [
  {
   "cell_type": "markdown",
   "metadata": {},
   "source": [
    "<b><font size=\"6\">01. Data Preprocessing</font><a class=\"anchor\"><a id='toc'></a></b><br><br>\n",
    "This notebook requires previous knowledge in Pandas library. Feel free to complement your knowledge with online tutorials such as:<br>\n",
    "https://learn.datacamp.com/courses/data-manipulation-with-pandas <br>"
   ]
  },
  {
   "cell_type": "markdown",
   "metadata": {},
   "source": [
    "# <font color='#BFD72F'>1. Importing Data</font> <a class=\"anchor\" id=\"first-bullet\"></a>"
   ]
  },
  {
   "cell_type": "code",
   "execution_count": 1,
   "metadata": {},
   "outputs": [],
   "source": [
    "# connect to local repository\n",
    "from os import getcwd\n",
    "\n",
    "path = getcwd()"
   ]
  },
  {
   "cell_type": "markdown",
   "metadata": {},
   "source": [
    "**Step 1** - Import the pandas library and define the alias as 'pd'"
   ]
  },
  {
   "cell_type": "code",
   "execution_count": 2,
   "metadata": {},
   "outputs": [],
   "source": [
    "# Import pandas\n",
    "import pandas as pd"
   ]
  },
  {
   "cell_type": "code",
   "execution_count": 20,
   "metadata": {},
   "outputs": [],
   "source": [
    "#pip install openpyxl"
   ]
  },
  {
   "cell_type": "markdown",
   "metadata": {},
   "source": [
    "**Step 2** - Read the excel file 'tugas.xlsx' and save it to the object `data` using the pandas method `pd.read_excel()`"
   ]
  },
  {
   "cell_type": "code",
   "execution_count": 3,
   "metadata": {},
   "outputs": [],
   "source": [
    "# Import the dataset\n",
    "tugas = pd.read_excel( 'data/tugas.xlsx', engine='openpyxl')"
   ]
  },
  {
   "cell_type": "markdown",
   "metadata": {},
   "source": [
    "<a class=\"anchor\" id=\"data\">\n",
    "    \n",
    "## 1.1. The data available: Customer information\n",
    "\n",
    "</a>"
   ]
  },
  {
   "cell_type": "markdown",
   "metadata": {},
   "source": [
    "- **Customer ID**\n",
    "\n",
    "##### Sociodemographic data:\n",
    "- **Gender**\n",
    "- **Age** \n",
    "- **Education**\n",
    "- **Marital Status**\n",
    "- **Dependents**\n",
    "- **Income**\n",
    "\n",
    "##### Firmographic data:\n",
    "- **RFM**\n",
    "- **Product purchase history (Clothes / House Keeping / Kitchen / Small Appliances / Toys)**\n",
    "- **Channel usage**\n",
    "- **Recommendation**"
   ]
  },
  {
   "cell_type": "markdown",
   "metadata": {},
   "source": [
    "# <font color='#BFD72F'>2. Data Preparation</font> <a class=\"anchor\" id=\"second-bullet\"></a>\n",
    "\n",
    "\n",
    "* [2.1 - Data Preparation](#preparation)\n",
    "* [2.2 - Data Cleaning](#cleaning)\n",
    "* [2.3 - Feature Engineering](#transformation)\n",
    "* [2.4 - Scaling Data](#normalize)\n",
    "* [2.5 - Correlations](#corr)"
   ]
  },
  {
   "cell_type": "markdown",
   "metadata": {},
   "source": [
    "<a class=\"anchor\" id=\"preparation\">\n",
    "\n",
    "## 2.1.  Data Preparation\n",
    "\n",
    "</a>\n",
    "\n",
    "[Back to Data Preparation](#second-bullet) <br><br>\n",
    "In this phase, we are going to view some useful commands to prepare the dataset to suffer preprocessing tasks.\n",
    "\n",
    "We are going to learn how to:\n",
    "- Make copies of the original dataset; <br>\n",
    "- Drop columns; <br>\n",
    "- Rename columns; <br>\n",
    "- Set the index; <br>\n",
    "- Convert data types; <br>"
   ]
  },
  {
   "cell_type": "markdown",
   "metadata": {},
   "source": [
    "### 2.1.1. Duplicated Data"
   ]
  },
  {
   "cell_type": "markdown",
   "metadata": {},
   "source": [
    "Do we have duplicated rows? We can check that using the pandas method `duplicated()`. When using this method there are some parameters we can provide to it. We can use `subset` to only check for duplicates within a specific subset of columns. We can set the `keep` parameter to 'first', 'last' or False. Setting the `keep` parameter to 'first' will signal all duplicates as True except for their first occurrence. Similarly, setting `keep` to 'last' will signal all duplicate records as True except for their last occurrence. If we want to see all duplicate records we should set `keep` to False."
   ]
  },
  {
   "cell_type": "code",
   "execution_count": 5,
   "metadata": {},
   "outputs": [
    {
     "data": {
      "text/html": [
       "<div>\n",
       "<style scoped>\n",
       "    .dataframe tbody tr th:only-of-type {\n",
       "        vertical-align: middle;\n",
       "    }\n",
       "\n",
       "    .dataframe tbody tr th {\n",
       "        vertical-align: top;\n",
       "    }\n",
       "\n",
       "    .dataframe thead th {\n",
       "        text-align: right;\n",
       "    }\n",
       "</style>\n",
       "<table border=\"1\" class=\"dataframe\">\n",
       "  <thead>\n",
       "    <tr style=\"text-align: right;\">\n",
       "      <th></th>\n",
       "      <th>Unnamed: 0</th>\n",
       "      <th>Custid</th>\n",
       "      <th>Year_Birth</th>\n",
       "      <th>Gender</th>\n",
       "      <th>Education</th>\n",
       "      <th>Marital_Status</th>\n",
       "      <th>Dependents</th>\n",
       "      <th>Income</th>\n",
       "      <th>Dt_Customer</th>\n",
       "      <th>Rcn</th>\n",
       "      <th>Frq</th>\n",
       "      <th>Mnt</th>\n",
       "      <th>Clothes</th>\n",
       "      <th>Kitchen</th>\n",
       "      <th>SmallAppliances</th>\n",
       "      <th>HouseKeeping</th>\n",
       "      <th>Toys</th>\n",
       "      <th>NetPurchase</th>\n",
       "      <th>CatPurchase</th>\n",
       "      <th>Recomendation</th>\n",
       "    </tr>\n",
       "  </thead>\n",
       "  <tbody>\n",
       "    <tr>\n",
       "      <th>24</th>\n",
       "      <td>24</td>\n",
       "      <td>1677</td>\n",
       "      <td>1941</td>\n",
       "      <td>F</td>\n",
       "      <td>Graduation</td>\n",
       "      <td>Married</td>\n",
       "      <td>0</td>\n",
       "      <td>99323.7</td>\n",
       "      <td>2014-01-09</td>\n",
       "      <td>71</td>\n",
       "      <td>26</td>\n",
       "      <td>1134.64</td>\n",
       "      <td>42</td>\n",
       "      <td>20</td>\n",
       "      <td>27</td>\n",
       "      <td>2</td>\n",
       "      <td>9</td>\n",
       "      <td>16</td>\n",
       "      <td>84</td>\n",
       "      <td>5</td>\n",
       "    </tr>\n",
       "    <tr>\n",
       "      <th>25</th>\n",
       "      <td>24</td>\n",
       "      <td>1677</td>\n",
       "      <td>1941</td>\n",
       "      <td>F</td>\n",
       "      <td>Graduation</td>\n",
       "      <td>Married</td>\n",
       "      <td>0</td>\n",
       "      <td>99323.7</td>\n",
       "      <td>2014-01-09</td>\n",
       "      <td>71</td>\n",
       "      <td>26</td>\n",
       "      <td>1134.64</td>\n",
       "      <td>42</td>\n",
       "      <td>20</td>\n",
       "      <td>27</td>\n",
       "      <td>2</td>\n",
       "      <td>9</td>\n",
       "      <td>16</td>\n",
       "      <td>84</td>\n",
       "      <td>5</td>\n",
       "    </tr>\n",
       "  </tbody>\n",
       "</table>\n",
       "</div>"
      ],
      "text/plain": [
       "    Unnamed: 0  Custid  Year_Birth Gender   Education Marital_Status  \\\n",
       "24          24    1677        1941      F  Graduation        Married   \n",
       "25          24    1677        1941      F  Graduation        Married   \n",
       "\n",
       "    Dependents   Income Dt_Customer  Rcn  Frq      Mnt  Clothes  Kitchen  \\\n",
       "24           0  99323.7  2014-01-09   71   26  1134.64       42       20   \n",
       "25           0  99323.7  2014-01-09   71   26  1134.64       42       20   \n",
       "\n",
       "    SmallAppliances  HouseKeeping  Toys  NetPurchase  CatPurchase  \\\n",
       "24               27             2     9           16           84   \n",
       "25               27             2     9           16           84   \n",
       "\n",
       "    Recomendation  \n",
       "24              5  \n",
       "25              5  "
      ]
     },
     "execution_count": 5,
     "metadata": {},
     "output_type": "execute_result"
    }
   ],
   "source": [
    "#  Step 3\n",
    "tugas[tugas.duplicated(keep=False)]"
   ]
  },
  {
   "cell_type": "markdown",
   "metadata": {},
   "source": [
    "It seems that we have two rows that are duplicated. <br>\n",
    "\n",
    "**Step 4 -** To drop the duplicate row(s), we can use the `drop_duplicates()` method. <br>\n",
    "Most methods in pandas do not apply the changes directly to the object. In this way, and in this case, we need to define the parameter inplace as `inplace = True` so the changes are applied directly on the dataset. <br>\n",
    "Once again, `drop_duplicates` also has a `keep` parameter. The default value for this parameter is 'first', meaning it will keep first occurrences of duplicate rows in the dataset."
   ]
  },
  {
   "cell_type": "code",
   "execution_count": 6,
   "metadata": {},
   "outputs": [],
   "source": [
    "# Step 4\n",
    "tugas.drop_duplicates(inplace = True)"
   ]
  },
  {
   "cell_type": "markdown",
   "metadata": {},
   "source": [
    "Now the data is clean from duplicate rows."
   ]
  },
  {
   "cell_type": "code",
   "execution_count": 7,
   "metadata": {},
   "outputs": [
    {
     "data": {
      "text/html": [
       "<div>\n",
       "<style scoped>\n",
       "    .dataframe tbody tr th:only-of-type {\n",
       "        vertical-align: middle;\n",
       "    }\n",
       "\n",
       "    .dataframe tbody tr th {\n",
       "        vertical-align: top;\n",
       "    }\n",
       "\n",
       "    .dataframe thead th {\n",
       "        text-align: right;\n",
       "    }\n",
       "</style>\n",
       "<table border=\"1\" class=\"dataframe\">\n",
       "  <thead>\n",
       "    <tr style=\"text-align: right;\">\n",
       "      <th></th>\n",
       "      <th>Unnamed: 0</th>\n",
       "      <th>Custid</th>\n",
       "      <th>Year_Birth</th>\n",
       "      <th>Gender</th>\n",
       "      <th>Education</th>\n",
       "      <th>Marital_Status</th>\n",
       "      <th>Dependents</th>\n",
       "      <th>Income</th>\n",
       "      <th>Dt_Customer</th>\n",
       "      <th>Rcn</th>\n",
       "      <th>Frq</th>\n",
       "      <th>Mnt</th>\n",
       "      <th>Clothes</th>\n",
       "      <th>Kitchen</th>\n",
       "      <th>SmallAppliances</th>\n",
       "      <th>HouseKeeping</th>\n",
       "      <th>Toys</th>\n",
       "      <th>NetPurchase</th>\n",
       "      <th>CatPurchase</th>\n",
       "      <th>Recomendation</th>\n",
       "    </tr>\n",
       "  </thead>\n",
       "  <tbody>\n",
       "  </tbody>\n",
       "</table>\n",
       "</div>"
      ],
      "text/plain": [
       "Empty DataFrame\n",
       "Columns: [Unnamed: 0, Custid, Year_Birth, Gender, Education, Marital_Status, Dependents, Income, Dt_Customer, Rcn, Frq, Mnt, Clothes, Kitchen, SmallAppliances, HouseKeeping, Toys, NetPurchase, CatPurchase, Recomendation]\n",
       "Index: []"
      ]
     },
     "execution_count": 7,
     "metadata": {},
     "output_type": "execute_result"
    }
   ],
   "source": [
    "tugas[tugas.duplicated(keep=False)]"
   ]
  },
  {
   "cell_type": "markdown",
   "metadata": {},
   "source": [
    "### 2.1.2. Make a copy from the original dataset\n",
    "\n",
    "*   List item\n",
    "*   List item\n",
    "\n"
   ]
  },
  {
   "cell_type": "markdown",
   "metadata": {},
   "source": [
    "In some cases, as a way to not affect our original dataset, or to create a new dataset using a subset of the original dataset, we should use the `copy()` method."
   ]
  },
  {
   "cell_type": "markdown",
   "metadata": {},
   "source": [
    "**Step 5** -  Using the pandas method `copy()`, create a new dataset named `tugas2` with the variables ['Custid','Year_Birth','Gender']:"
   ]
  },
  {
   "cell_type": "code",
   "execution_count": 8,
   "metadata": {},
   "outputs": [
    {
     "data": {
      "text/html": [
       "<div>\n",
       "<style scoped>\n",
       "    .dataframe tbody tr th:only-of-type {\n",
       "        vertical-align: middle;\n",
       "    }\n",
       "\n",
       "    .dataframe tbody tr th {\n",
       "        vertical-align: top;\n",
       "    }\n",
       "\n",
       "    .dataframe thead th {\n",
       "        text-align: right;\n",
       "    }\n",
       "</style>\n",
       "<table border=\"1\" class=\"dataframe\">\n",
       "  <thead>\n",
       "    <tr style=\"text-align: right;\">\n",
       "      <th></th>\n",
       "      <th>Custid</th>\n",
       "      <th>Year_Birth</th>\n",
       "      <th>Gender</th>\n",
       "    </tr>\n",
       "  </thead>\n",
       "  <tbody>\n",
       "    <tr>\n",
       "      <th>0</th>\n",
       "      <td>1041</td>\n",
       "      <td>1997</td>\n",
       "      <td>F</td>\n",
       "    </tr>\n",
       "    <tr>\n",
       "      <th>1</th>\n",
       "      <td>1061</td>\n",
       "      <td>1947</td>\n",
       "      <td>F</td>\n",
       "    </tr>\n",
       "    <tr>\n",
       "      <th>2</th>\n",
       "      <td>1076</td>\n",
       "      <td>1986</td>\n",
       "      <td>F</td>\n",
       "    </tr>\n",
       "    <tr>\n",
       "      <th>3</th>\n",
       "      <td>1091</td>\n",
       "      <td>1969</td>\n",
       "      <td>F</td>\n",
       "    </tr>\n",
       "    <tr>\n",
       "      <th>4</th>\n",
       "      <td>1094</td>\n",
       "      <td>1964</td>\n",
       "      <td>M</td>\n",
       "    </tr>\n",
       "  </tbody>\n",
       "</table>\n",
       "</div>"
      ],
      "text/plain": [
       "   Custid  Year_Birth Gender\n",
       "0    1041        1997      F\n",
       "1    1061        1947      F\n",
       "2    1076        1986      F\n",
       "3    1091        1969      F\n",
       "4    1094        1964      M"
      ]
     },
     "execution_count": 8,
     "metadata": {},
     "output_type": "execute_result"
    }
   ],
   "source": [
    "tugas2 = tugas[['Custid','Year_Birth','Gender']].copy()\n",
    "tugas2.head()"
   ]
  },
  {
   "cell_type": "markdown",
   "metadata": {},
   "source": [
    "When using `copy` keep in mind it accepts a parameter called `deep`. If set to True(the default value), a copy of the original dataset is created sso that modifications to the data or indices of the copy will not be reflected in the original object. However, if this parameter is set to False, only referencess to the data will be copied, which meaens that any changes to the data of the original will be reflected in the copy (and vice versa)"
   ]
  },
  {
   "cell_type": "markdown",
   "metadata": {},
   "source": [
    "### 2.1.3. Drop a column"
   ]
  },
  {
   "cell_type": "markdown",
   "metadata": {},
   "source": [
    "If we want to drop a column from our dataset, we can use the method `drop()`."
   ]
  },
  {
   "cell_type": "code",
   "execution_count": 9,
   "metadata": {},
   "outputs": [
    {
     "data": {
      "text/html": [
       "<div>\n",
       "<style scoped>\n",
       "    .dataframe tbody tr th:only-of-type {\n",
       "        vertical-align: middle;\n",
       "    }\n",
       "\n",
       "    .dataframe tbody tr th {\n",
       "        vertical-align: top;\n",
       "    }\n",
       "\n",
       "    .dataframe thead th {\n",
       "        text-align: right;\n",
       "    }\n",
       "</style>\n",
       "<table border=\"1\" class=\"dataframe\">\n",
       "  <thead>\n",
       "    <tr style=\"text-align: right;\">\n",
       "      <th></th>\n",
       "      <th>Year_Birth</th>\n",
       "      <th>Gender</th>\n",
       "    </tr>\n",
       "  </thead>\n",
       "  <tbody>\n",
       "    <tr>\n",
       "      <th>0</th>\n",
       "      <td>1997</td>\n",
       "      <td>F</td>\n",
       "    </tr>\n",
       "    <tr>\n",
       "      <th>1</th>\n",
       "      <td>1947</td>\n",
       "      <td>F</td>\n",
       "    </tr>\n",
       "    <tr>\n",
       "      <th>2</th>\n",
       "      <td>1986</td>\n",
       "      <td>F</td>\n",
       "    </tr>\n",
       "    <tr>\n",
       "      <th>3</th>\n",
       "      <td>1969</td>\n",
       "      <td>F</td>\n",
       "    </tr>\n",
       "    <tr>\n",
       "      <th>4</th>\n",
       "      <td>1964</td>\n",
       "      <td>M</td>\n",
       "    </tr>\n",
       "  </tbody>\n",
       "</table>\n",
       "</div>"
      ],
      "text/plain": [
       "   Year_Birth Gender\n",
       "0        1997      F\n",
       "1        1947      F\n",
       "2        1986      F\n",
       "3        1969      F\n",
       "4        1964      M"
      ]
     },
     "execution_count": 9,
     "metadata": {},
     "output_type": "execute_result"
    }
   ],
   "source": [
    "# Step 6\n",
    "tugas2.drop(labels = ['Custid'], axis = 1, inplace=True)\n",
    "tugas2.head()"
   ]
  },
  {
   "cell_type": "markdown",
   "metadata": {},
   "source": [
    "The parameter `axis` accepts either the value  0 or 1, meaning whether to drop labels from the index (0 or 'index') or columns (1 or `columns`). Dropping labels from the index is the same as dropping rows."
   ]
  },
  {
   "cell_type": "markdown",
   "metadata": {},
   "source": [
    "### 2.1.4. To rename colunms"
   ]
  },
  {
   "cell_type": "markdown",
   "metadata": {},
   "source": [
    "As a way to make the dataset more perceptible, sometimes we may need to change the columns names."
   ]
  },
  {
   "cell_type": "code",
   "execution_count": 10,
   "metadata": {},
   "outputs": [],
   "source": [
    "tugas2 = tugas[['Custid','Year_Birth','Gender']].copy()"
   ]
  },
  {
   "cell_type": "markdown",
   "metadata": {},
   "source": [
    "**Step 7** - Rename the columns directly by assoiating a list of new names of columns to the attribute `columns` of the dataset `tugas`"
   ]
  },
  {
   "cell_type": "code",
   "execution_count": 12,
   "metadata": {},
   "outputs": [
    {
     "data": {
      "text/plain": [
       "Index(['Custid', 'Year_Birth', 'Gender'], dtype='object')"
      ]
     },
     "execution_count": 12,
     "metadata": {},
     "output_type": "execute_result"
    }
   ],
   "source": [
    "tugas2.columns"
   ]
  },
  {
   "cell_type": "code",
   "execution_count": 14,
   "metadata": {},
   "outputs": [
    {
     "data": {
      "text/html": [
       "<div>\n",
       "<style scoped>\n",
       "    .dataframe tbody tr th:only-of-type {\n",
       "        vertical-align: middle;\n",
       "    }\n",
       "\n",
       "    .dataframe tbody tr th {\n",
       "        vertical-align: top;\n",
       "    }\n",
       "\n",
       "    .dataframe thead th {\n",
       "        text-align: right;\n",
       "    }\n",
       "</style>\n",
       "<table border=\"1\" class=\"dataframe\">\n",
       "  <thead>\n",
       "    <tr style=\"text-align: right;\">\n",
       "      <th></th>\n",
       "      <th>NumberCust</th>\n",
       "      <th>Year</th>\n",
       "      <th>Male_Fem</th>\n",
       "    </tr>\n",
       "  </thead>\n",
       "  <tbody>\n",
       "    <tr>\n",
       "      <th>0</th>\n",
       "      <td>1041</td>\n",
       "      <td>1997</td>\n",
       "      <td>F</td>\n",
       "    </tr>\n",
       "    <tr>\n",
       "      <th>1</th>\n",
       "      <td>1061</td>\n",
       "      <td>1947</td>\n",
       "      <td>F</td>\n",
       "    </tr>\n",
       "    <tr>\n",
       "      <th>2</th>\n",
       "      <td>1076</td>\n",
       "      <td>1986</td>\n",
       "      <td>F</td>\n",
       "    </tr>\n",
       "    <tr>\n",
       "      <th>3</th>\n",
       "      <td>1091</td>\n",
       "      <td>1969</td>\n",
       "      <td>F</td>\n",
       "    </tr>\n",
       "    <tr>\n",
       "      <th>4</th>\n",
       "      <td>1094</td>\n",
       "      <td>1964</td>\n",
       "      <td>M</td>\n",
       "    </tr>\n",
       "  </tbody>\n",
       "</table>\n",
       "</div>"
      ],
      "text/plain": [
       "   NumberCust  Year Male_Fem\n",
       "0        1041  1997        F\n",
       "1        1061  1947        F\n",
       "2        1076  1986        F\n",
       "3        1091  1969        F\n",
       "4        1094  1964        M"
      ]
     },
     "execution_count": 14,
     "metadata": {},
     "output_type": "execute_result"
    }
   ],
   "source": [
    "tugas2.columns = ['NumberCust', 'Year', 'Male_Fem']\n",
    "tugas2.head()"
   ]
  },
  {
   "cell_type": "markdown",
   "metadata": {},
   "source": [
    "If we want to rename only some columns, passing a list with names for all columns can be exhaustive. In these cases we can use the method `rename()`."
   ]
  },
  {
   "cell_type": "code",
   "execution_count": 15,
   "metadata": {},
   "outputs": [],
   "source": [
    "tugas2.rename(columns={\"NumberCust\": \"Custid\", \"Male_Fem\": \"Gen\"}, inplace=True)\n",
    "tugas2.head()"
   ]
  },
  {
   "cell_type": "markdown",
   "metadata": {},
   "source": [
    "### 2.1.5. To set index"
   ]
  },
  {
   "cell_type": "code",
   "execution_count": 18,
   "metadata": {},
   "outputs": [],
   "source": [
    "tugas2 = tugas[['Custid','Year_Birth','Gender']].copy()"
   ]
  },
  {
   "cell_type": "markdown",
   "metadata": {},
   "source": [
    "if we want to define the index of our dataset as being specific column that we have , we can use the method set_index()\n",
    "\n",
    "**Step 8** - Redefine the index of tugas2 by calling the method set_index and fill the parameters as follows:\n",
    "-   Keys='CustId'\n",
    "-   inplace=True"
   ]
  },
  {
   "cell_type": "code",
   "execution_count": 19,
   "metadata": {},
   "outputs": [
    {
     "data": {
      "text/html": [
       "<div>\n",
       "<style scoped>\n",
       "    .dataframe tbody tr th:only-of-type {\n",
       "        vertical-align: middle;\n",
       "    }\n",
       "\n",
       "    .dataframe tbody tr th {\n",
       "        vertical-align: top;\n",
       "    }\n",
       "\n",
       "    .dataframe thead th {\n",
       "        text-align: right;\n",
       "    }\n",
       "</style>\n",
       "<table border=\"1\" class=\"dataframe\">\n",
       "  <thead>\n",
       "    <tr style=\"text-align: right;\">\n",
       "      <th></th>\n",
       "      <th>Year_Birth</th>\n",
       "      <th>Gender</th>\n",
       "    </tr>\n",
       "    <tr>\n",
       "      <th>Custid</th>\n",
       "      <th></th>\n",
       "      <th></th>\n",
       "    </tr>\n",
       "  </thead>\n",
       "  <tbody>\n",
       "    <tr>\n",
       "      <th>1041</th>\n",
       "      <td>1997</td>\n",
       "      <td>F</td>\n",
       "    </tr>\n",
       "    <tr>\n",
       "      <th>1061</th>\n",
       "      <td>1947</td>\n",
       "      <td>F</td>\n",
       "    </tr>\n",
       "    <tr>\n",
       "      <th>1076</th>\n",
       "      <td>1986</td>\n",
       "      <td>F</td>\n",
       "    </tr>\n",
       "    <tr>\n",
       "      <th>1091</th>\n",
       "      <td>1969</td>\n",
       "      <td>F</td>\n",
       "    </tr>\n",
       "    <tr>\n",
       "      <th>1094</th>\n",
       "      <td>1964</td>\n",
       "      <td>M</td>\n",
       "    </tr>\n",
       "  </tbody>\n",
       "</table>\n",
       "</div>"
      ],
      "text/plain": [
       "        Year_Birth Gender\n",
       "Custid                   \n",
       "1041          1997      F\n",
       "1061          1947      F\n",
       "1076          1986      F\n",
       "1091          1969      F\n",
       "1094          1964      M"
      ]
     },
     "execution_count": 19,
     "metadata": {},
     "output_type": "execute_result"
    }
   ],
   "source": [
    "# Step 8\n",
    "tugas2.set_index('Custid', inplace=True)\n",
    "tugas2.head()"
   ]
  },
  {
   "cell_type": "markdown",
   "metadata": {},
   "source": [
    "### 2.1.6. Convert Data Types\n",
    "\n",
    "In some situations, converting a variable to a different data type can be handy.\n",
    "Strings are called float\n",
    "\n",
    "**Step 9** - Check the type of the variable `Year_Birth` using the attribute `dtype`"
   ]
  },
  {
   "cell_type": "code",
   "execution_count": 22,
   "metadata": {},
   "outputs": [
    {
     "data": {
      "text/plain": [
       "dtype('int64')"
      ]
     },
     "execution_count": 22,
     "metadata": {},
     "output_type": "execute_result"
    }
   ],
   "source": [
    "# Step 9\n",
    "tugas2['Year_Birth'].dtype"
   ]
  },
  {
   "cell_type": "markdown",
   "metadata": {},
   "source": [
    "It seems that Year_Birth is an integer value (with 64 bits). Lets change it to an integar value of 32 bits\n",
    "\n",
    "**Step 10** -  Define the datatype of `Year_Birth` from the dataset `tugas2` as `int32` recurring to the method `astype()`. Confirm the new datatype using the method `dtype`"
   ]
  },
  {
   "cell_type": "code",
   "execution_count": 24,
   "metadata": {},
   "outputs": [
    {
     "data": {
      "text/plain": [
       "dtype('int32')"
      ]
     },
     "execution_count": 24,
     "metadata": {},
     "output_type": "execute_result"
    }
   ],
   "source": [
    "# Step 10\n",
    "tugas2['Year_Birth'] = tugas2['Year_Birth'].astype('int32')\n",
    "tugas2['Year_Birth'].dtype"
   ]
  },
  {
   "cell_type": "markdown",
   "metadata": {},
   "source": [
    "<a class=\"anchor\" id=\"cleaning\">\n",
    "\n",
    "## 2.2.  Data Cleaning\n",
    "\n",
    "</a>\n",
    "\n",
    "[Back to Data Preparation](#second-bullet) <br><br>\n",
    "\n",
    "- Replace values; <br>\n",
    "- Check missing values; <br>\n",
    "- Filter out missing values; <br>\n",
    "- Drop rows; <br>\n",
    "- Fill in missing values; <br>\n",
    "- Detect and remove outliers; <br>"
   ]
  }
 ],
 "metadata": {
  "kernelspec": {
   "display_name": "Python 3.8.5 64-bit",
   "language": "python",
   "name": "python3"
  },
  "language_info": {
   "codemirror_mode": {
    "name": "ipython",
    "version": 3
   },
   "file_extension": ".py",
   "mimetype": "text/x-python",
   "name": "python",
   "nbconvert_exporter": "python",
   "pygments_lexer": "ipython3",
   "version": "3.8.5"
  },
  "orig_nbformat": 4,
  "vscode": {
   "interpreter": {
    "hash": "9650cb4e16cdd4a8e8e2d128bf38d875813998db22a3c986335f89e0cb4d7bb2"
   }
  }
 },
 "nbformat": 4,
 "nbformat_minor": 2
}

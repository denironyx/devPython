{
 "cells": [
  {
   "cell_type": "markdown",
   "metadata": {},
   "source": [
    "# <b><font size=\"7\">Getting started</font></b><br>\n",
    "This is an introduction to python programming.\n",
    "Other complement knowledge with online tutorials such as::<br>\n",
    "https://www.datacamp.com/courses/intro-to-python-for-data-science<br>\n",
    "https://www.edx.org/python-for-data-science<br>\n",
    "https://eu.udacity.com/course/introduction-to-python--ud1110\n",
    "<br>"
   ]
  },
  {
   "cell_type": "markdown",
   "metadata": {},
   "source": [
    "<div class=\"alert alert-block alert-info>\n",
    "<font size=\"6\"><b> Table of Contents </b> </font> <br>\n",
    "\n",
    "1. [First Steps](#First-Steps)\n",
    "1. [Hello World!](#Hello-world!)\n",
    "1. [Variables, Data Types and Data Structures in Python](#Variables,)\n",
    "1. [Operators](#)\n",
    "1. [Introduction to Python Statements](#)\n",
    "    - [if, elif, else statements](#)\n",
    "    - [for loops](#)\n",
    "    - [while loops](#)\n",
    "1. [Methods](#)\n",
    "1. [Functions](#)\n",
    "1. [Useful Python Commands](#)\n",
    "</div>\n",
    "<br>"
   ]
  },
  {
   "cell_type": "markdown",
   "metadata": {},
   "source": [
    "# Setting up\n",
    "\n",
    "Some ways to access Python\n",
    "-   Anaconda\n",
    "-   Integrated Development Environment (IDEs)\n",
    "-   Text Editor\n",
    "    -   Allows you to write code;\n",
    "-   Terminal (via Python / IPython)\n",
    "    -   Allows you to run code;"
   ]
  },
  {
   "cell_type": "markdown",
   "metadata": {},
   "source": [
    "# Anaconda\n",
    "This is one of the most popular python distribution. That sets up a data science oriented working environment in Python. Installation of Anaconda comes with most of the main libraries for data manipulation\n",
    "-   Pandas\n",
    "-   Matplotlib\n",
    "-   Scipy\n",
    "-   Numpy\n",
    "and it's vey easy to use and install"
   ]
  },
  {
   "cell_type": "markdown",
   "metadata": {},
   "source": [
    "# Integrated Development Environment (IDE)\n",
    "Allows you to edit and run code within the same software. Some popular IDEs:\n",
    "-   VSCode\n",
    "-   Pycharm\n",
    "-   Spyder\n",
    "Anaconda comes with inbuilt with Spyder and VScode"
   ]
  },
  {
   "cell_type": "markdown",
   "metadata": {},
   "source": [
    "# Text Editors\n",
    "Allows you to edit code, but not run it. It's lightweight, simple and easy to use and setup"
   ]
  },
  {
   "cell_type": "markdown",
   "metadata": {},
   "source": [
    "## Jupyter Notebooks\n",
    "\n",
    "- A popular IDE\n",
    "- Very useful for exploratory work \n",
    "- We are currently looking at a Jupyter Notebook (in presentation mode!)"
   ]
  },
  {
   "cell_type": "markdown",
   "metadata": {},
   "source": [
    "# Hello, be happy!\n",
    "-   Let's run our first command: Print a \"Hello, be happy!\""
   ]
  },
  {
   "cell_type": "markdown",
   "metadata": {},
   "source": [
    "**print()**\n",
    "> __*Syntax:*__  print(\\*objects,...)<br>\n",
    "__*Definition:*__ The print() function prints the given object to the standard output device (screen) or to the text stream file. <br>\n",
    "__*Parameters: *__ The print() method takes the parameter object: object to the printed. * indicates that there may be more than one object."
   ]
  },
  {
   "cell_type": "code",
   "execution_count": null,
   "metadata": {},
   "outputs": [],
   "source": [
    "print(\"Hello, be happy!\")"
   ]
  },
  {
   "cell_type": "markdown",
   "metadata": {},
   "source": [
    "Python allows you to print things simultaneously: Just like what we have below."
   ]
  },
  {
   "cell_type": "code",
   "execution_count": null,
   "metadata": {},
   "outputs": [],
   "source": [
    "print(\"Twenty divided by ten is: \", 20 / 10)\n",
    "print(\"The square of five is: \", 5 ** 2)"
   ]
  },
  {
   "cell_type": "markdown",
   "metadata": {},
   "source": [
    "\"#\" - this is use to write a comment. Any line of code with that symbol at the front is ignore during compilation."
   ]
  },
  {
   "cell_type": "markdown",
   "metadata": {},
   "source": [
    "# <font color='#BFD72F'>Variables, Data Types and Data Structures in Python</font>\n",
    "<a id=\"Variables,-Data-Types-and-Data-Structures-in-Python\"></a>\n",
    "  [Back to TOC](#toc)\n",
    "\n",
    "1. Variables\n",
    "1. Data Types\n",
    "1. Data Structures"
   ]
  },
  {
   "cell_type": "markdown",
   "metadata": {},
   "source": [
    "\n",
    "## Variables\n",
    "A variable holds a value. It is assigned that value with an `=` sign. For example:"
   ]
  },
  {
   "cell_type": "code",
   "execution_count": null,
   "metadata": {},
   "outputs": [],
   "source": [
    "value = \"Hello, be happy!\"\n",
    "# a variable called value is created that contains the string \"Hello, be happy!\"\n",
    "print(value)"
   ]
  },
  {
   "cell_type": "markdown",
   "metadata": {},
   "source": [
    "### Naming rules\n",
    "\n",
    "- Variables can only be named containing letters, numbers, and underscores. Variable names can start with a letter or an underscore, but can not start with a number.\n",
    "- Spaces are not allowed in variable names, so we use underscores instead of spaces. For example, use employee_name instead of \"employee name\".\n",
    "- You cannot use [Python keywords](http://docs.python.org/3/reference/lexical_analysis.html#keywords) as variable names.\n",
    "- Variable names should be descriptive, without being too long. For example mc_wheels is better than just \"wheels\", and number_of_wheels_on_a_motorycle."
   ]
  },
  {
   "cell_type": "markdown",
   "metadata": {},
   "source": [
    "### NameError\n",
    "\n",
    "There is one common error when using variables, that you will almost certainly encounter at some point. Take a look at this code, and see if you can figure out why it causes an error. If you are using a text editor, sometimes it easy to spot this error."
   ]
  },
  {
   "cell_type": "code",
   "execution_count": null,
   "metadata": {},
   "outputs": [],
   "source": [
    "value = \"Thank you for learning python, ciao!\"\n",
    "print(values)"
   ]
  },
  {
   "cell_type": "markdown",
   "metadata": {},
   "source": [
    "## Data Types\n",
    "  [Back to TOC](#toc)\n",
    "  \n",
    "__Data type__: classification of the data which tells the compiler or interpreter how the information will be used\n",
    "\n",
    "5 commonly used scalar data types:\n",
    "1. Strings\n",
    "1. Numbers: int, long, float and complex\n",
    "1. Booleans\n",
    "1. NoneType\n",
    "1. Datetime"
   ]
  },
  {
   "cell_type": "markdown",
   "metadata": {},
   "source": [
    "Use the function ``type`` to check the type of an object."
   ]
  },
  {
   "cell_type": "code",
   "execution_count": null,
   "metadata": {},
   "outputs": [],
   "source": [
    "print(\"A string has the type: \", type(\"This is a string\"))\n",
    "print(\"An integer has the type:\", type(5)) \n",
    "print(\"A boolean has the type:\", type(True))"
   ]
  },
  {
   "cell_type": "markdown",
   "metadata": {},
   "source": [
    "### Strings\n",
    "Strings are contained by either single or double quotes."
   ]
  },
  {
   "cell_type": "code",
   "execution_count": null,
   "metadata": {},
   "outputs": [],
   "source": [
    "var_name = \"This is a double-quoted string.\"\n",
    "var_name = 'This is a single-quoted string.'"
   ]
  },
  {
   "cell_type": "markdown",
   "metadata": {},
   "source": [
    "This lets us make strings that contain quotations"
   ]
  },
  {
   "cell_type": "code",
   "execution_count": 8,
   "metadata": {},
   "outputs": [
    {
     "name": "stdout",
     "output_type": "stream",
     "text": [
      "What's your name? 'Dennis Irorere'.\n"
     ]
    }
   ],
   "source": [
    "name = \"What's your name? \" + \\\n",
    "    \"'Dennis Irorere'.\"\n",
    "\n",
    "print(name)"
   ]
  },
  {
   "cell_type": "markdown",
   "metadata": {},
   "source": [
    "The combination \"\\n\" makes a newline appear in a string. You can use newlines anywhere you like in a string."
   ]
  },
  {
   "cell_type": "code",
   "execution_count": null,
   "metadata": {},
   "outputs": [],
   "source": [
    "print(\"What's your name? \\n 'Dennis Irorere'.\")"
   ]
  },
  {
   "cell_type": "markdown",
   "metadata": {},
   "source": [
    "In case we need to create a multiline string, there is the triple-quote to the rescue: ``'''`` or ``\"\"\"``"
   ]
  },
  {
   "cell_type": "code",
   "execution_count": null,
   "metadata": {},
   "outputs": [],
   "source": [
    "multiline_string = '''This is a string where I \n",
    "can confortably write on multiple lines\n",
    "without worring about to use the escape character \"\\\\\" as in\n",
    "the previous example. \n",
    "As you'll see, the original string formatting is preserved.\n",
    "'''\n",
    "\n",
    "print(multiline_string)"
   ]
  },
  {
   "cell_type": "markdown",
   "metadata": {},
   "source": [
    "We can add strings, \"multiply\", and apply basic operations on them.\n",
    "\n",
    "Try applying the ``.title()``, ``.lower()``, ``.upper()``, ``.strip()`` methods, multiply by an integer and add strings together."
   ]
  },
  {
   "cell_type": "code",
   "execution_count": null,
   "metadata": {},
   "outputs": [],
   "source": [
    "# How can we use these two variables to print the string \"Ada Lovelace\"?\n",
    "first_name = '   aDa        '\n",
    "last_name = ' loVelaCE   '\n",
    "\n",
    "# Create and print a variable using the ones above to get the following output:\n",
    "# \"Ada Lovelace was considered the world's first computer programmer.\"\n",
    "print(\"First Name\", first_name +  \"Last name:\", last_name)\n",
    "print(first_name.strip(), last_name.strip())"
   ]
  },
  {
   "cell_type": "markdown",
   "metadata": {},
   "source": [
    "### Examples\n",
    "\n",
    "#### Example 1: A quote\n",
    "Find a quote that you like. Store the quote in a variable. Print the quote"
   ]
  },
  {
   "cell_type": "code",
   "execution_count": null,
   "metadata": {},
   "outputs": [],
   "source": [
    "# Solution\n",
    "quote = '''\n",
    "    We must use time creatively in the knowledge that the time is always right to do right\n",
    "    - Martin Luther King, Jr.\n",
    "'''\n",
    "\n",
    "print(quote)"
   ]
  },
  {
   "cell_type": "markdown",
   "metadata": {},
   "source": [
    "### Integers\n",
    "You can do all of the basic operations with integers, and everything should behave as you expect. Addition and subtraction use the standard plus `+` and minus `-` symbols. Multiplication uses the asterisk `*`, and dvivision uses a forward slash `/`. Exponents use two asterisks `**`."
   ]
  },
  {
   "cell_type": "code",
   "execution_count": null,
   "metadata": {},
   "outputs": [],
   "source": [
    "print(\"3+2 =\", 3+2)\n",
    "print(\"3-2 =\", 3-2)\n",
    "print(\"3*2 =\", 3*2)\n",
    "print(\"3/2 =\", 3/2)\n",
    "print(\"3**2 =\", 3**2)\n",
    "\n",
    "# You can use parenthesis to modify the standard order of operations.\n",
    "print(\"2+3*4 =\", 2+3*4)\n",
    "print(\"(2+3)*4 =\", (2+3)*4)"
   ]
  },
  {
   "cell_type": "markdown",
   "metadata": {},
   "source": [
    "### Floating-Point Number\n",
    "Floating  point number refers to any number with a decimal point. Most of the time, you can think of floating point numbers as decimals, and they will behave as you expect them to."
   ]
  },
  {
   "cell_type": "code",
   "execution_count": 7,
   "metadata": {},
   "outputs": [
    {
     "name": "stdout",
     "output_type": "stream",
     "text": [
      "0.2\n"
     ]
    }
   ],
   "source": [
    "print(0.1 + 0.1)"
   ]
  },
  {
   "cell_type": "markdown",
   "metadata": {},
   "source": [
    "However, sometimes you will get an answer with an unexpectly long decimal part:"
   ]
  },
  {
   "cell_type": "code",
   "execution_count": 13,
   "metadata": {},
   "outputs": [
    {
     "name": "stdout",
     "output_type": "stream",
     "text": [
      "0.30000000000000004\n"
     ]
    }
   ],
   "source": [
    "print(0.1 + 0.2)"
   ]
  },
  {
   "cell_type": "markdown",
   "metadata": {},
   "source": [
    "This happens because of the way computers represent numbers internally; this has nothing to do with python itself. Basically, we are used to working in powers and then 0.2 as a power of two, and express their sum as power of two. There is no exact representation for 0.3 in powers of two, and we see that in the answer to 0.1 + 0.2\n",
    "\n",
    "Python tries to hide this kind of stuff when possible. \n",
    "\n",
    "You can also get the same kind of result with other operations"
   ]
  },
  {
   "cell_type": "code",
   "execution_count": 14,
   "metadata": {},
   "outputs": [
    {
     "name": "stdout",
     "output_type": "stream",
     "text": [
      "0.30000000000000004\n"
     ]
    }
   ],
   "source": [
    "print(3 * 0.1)"
   ]
  },
  {
   "cell_type": "markdown",
   "metadata": {},
   "source": [
    "### Example\n",
    "#### Example 2: Summing up\n",
    "Display the sum of 150 + 10, using two variables x and y."
   ]
  },
  {
   "cell_type": "code",
   "execution_count": 15,
   "metadata": {},
   "outputs": [
    {
     "name": "stdout",
     "output_type": "stream",
     "text": [
      "Your result from summing {x} and {y} is:  160\n"
     ]
    }
   ],
   "source": [
    "x = 150\n",
    "y = 10\n",
    "\n",
    "z = x + y\n",
    "print(\"Your result from summing {x} and {y} is: \", z)"
   ]
  },
  {
   "cell_type": "markdown",
   "metadata": {},
   "source": [
    "**Example 3** : Times\n",
    "\n",
    "Print the result of 5 x 5, like this: 'Five times five is 25'."
   ]
  },
  {
   "cell_type": "code",
   "execution_count": 17,
   "metadata": {},
   "outputs": [
    {
     "name": "stdout",
     "output_type": "stream",
     "text": [
      "five times five is 25\n"
     ]
    }
   ],
   "source": [
    "print('five times five is', 5 * 5)"
   ]
  },
  {
   "cell_type": "markdown",
   "metadata": {},
   "source": [
    "### Boolean\n",
    "Python comes with Booleans (with predefined True and False dislays that are basically just the integers 1 and 0). It also has a placeholder object called None."
   ]
  },
  {
   "cell_type": "code",
   "execution_count": 18,
   "metadata": {},
   "outputs": [
    {
     "name": "stdout",
     "output_type": "stream",
     "text": [
      "False\n"
     ]
    }
   ],
   "source": [
    "# Set object to be a boolean\n",
    "a = False\n",
    "print(a)"
   ]
  },
  {
   "cell_type": "code",
   "execution_count": 19,
   "metadata": {},
   "outputs": [
    {
     "name": "stdout",
     "output_type": "stream",
     "text": [
      "False\n",
      "True\n"
     ]
    }
   ],
   "source": [
    "# The output of these expressions are boolean\n",
    "print(1 > 2)\n",
    "print(1 < 2)"
   ]
  },
  {
   "cell_type": "markdown",
   "metadata": {},
   "source": [
    "### Data Structures\n",
    "**Data Structure**: Structure that holds data and has specific operations (or actions) that can be performed on it\n",
    "4 most common data structurs:\n",
    "1. Lists\n",
    "2. Dictionaries\n",
    "3. Tuples\n",
    "4. Sets\n",
    "\n",
    "### Lists\n",
    "Lists can be thought of the most general version of a sequenece in Python. Unlike strings, they are mutable, meaning the elements inside a list can be changed. \n",
    "\n",
    "In Python, square brackets designate a list. To define a list, you give the name of the list, the equals sign, and the values you want to include in your list square brackets."
   ]
  },
  {
   "cell_type": "code",
   "execution_count": 21,
   "metadata": {},
   "outputs": [],
   "source": [
    "dogs = ['border collie', 'australian cattle dog', 'labrador retriever']\n",
    "\n",
    "weird_list = [\n",
    "    123,\n",
    "    'You can mix data types',\n",
    "    True,\n",
    "    1.5,\n",
    "    None,\n",
    "    [1, 2, 3],\n",
    "    3\n",
    "]"
   ]
  },
  {
   "cell_type": "markdown",
   "metadata": {},
   "source": [
    "You can access items in lists:"
   ]
  },
  {
   "cell_type": "code",
   "execution_count": 27,
   "metadata": {},
   "outputs": [
    {
     "name": "stdout",
     "output_type": "stream",
     "text": [
      "<class 'list'> ['border collie', 'australian cattle dog', 'labrador retriever']\n",
      "Border Collie\n",
      "Labrador Retriever\n",
      "3\n"
     ]
    }
   ],
   "source": [
    "# Let's see the entire list first\n",
    "print(type(dogs), dogs)\n",
    "\n",
    "# The first dog in the list\n",
    "print(dogs[0])\n",
    "\n",
    "# The last dog in the list. In addition, let's give uppercase letters to the first letter of each word.\n",
    "print(dogs[-1].title())\n",
    "\n",
    "# You can check how many items are in the list\n",
    "print(len(dogs))"
   ]
  },
  {
   "cell_type": "markdown",
   "metadata": {},
   "source": [
    "You can also slice the list:"
   ]
  },
  {
   "cell_type": "code",
   "execution_count": 28,
   "metadata": {},
   "outputs": [
    {
     "name": "stdout",
     "output_type": "stream",
     "text": [
      "<class 'list'> [123, 'You can mix data types', True, 1.5, None, [1, 2, 3], 3]\n",
      "['You can mix data types', True]\n"
     ]
    }
   ],
   "source": [
    "# Let's see the entire list first\n",
    "print(type(weird_list), weird_list)\n",
    "\n",
    "print(weird_list[1:3])"
   ]
  }
 ],
 "metadata": {
  "kernelspec": {
   "display_name": "Python 3.8.5 64-bit",
   "language": "python",
   "name": "python3"
  },
  "language_info": {
   "codemirror_mode": {
    "name": "ipython",
    "version": 3
   },
   "file_extension": ".py",
   "mimetype": "text/x-python",
   "name": "python",
   "nbconvert_exporter": "python",
   "pygments_lexer": "ipython3",
   "version": "3.8.5"
  },
  "orig_nbformat": 4,
  "vscode": {
   "interpreter": {
    "hash": "9650cb4e16cdd4a8e8e2d128bf38d875813998db22a3c986335f89e0cb4d7bb2"
   }
  }
 },
 "nbformat": 4,
 "nbformat_minor": 2
}

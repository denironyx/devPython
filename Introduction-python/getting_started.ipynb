{
 "cells": [
  {
   "cell_type": "markdown",
   "metadata": {},
   "source": [
    "# <b><font size=\"7\">Getting started</font></b><br>\n",
    "This is an introduction to python programming.\n",
    "Other complement knowledge with online tutorials such as::<br>\n",
    "https://www.datacamp.com/courses/intro-to-python-for-data-science<br>\n",
    "https://www.edx.org/python-for-data-science<br>\n",
    "https://eu.udacity.com/course/introduction-to-python--ud1110\n",
    "<br>\n"
   ]
  },
  {
   "cell_type": "markdown",
   "metadata": {},
   "source": [
    "<div class=\"alert alert-block alert-info>\n",
    "<font size=\"6\"><b> Table of Contents </b> </font> <br>\n",
    "\n",
    "1. [First Steps](#First-Steps)\n",
    "1. [Hello World!](#Hello-world!)\n",
    "1. [Variables, Data Types and Data Structures in Python](#Variables,)\n",
    "1. [Operators](#)\n",
    "1. [Introduction to Python Statements](#)\n",
    "    - [if, elif, else statements](#)\n",
    "    - [for loops](#)\n",
    "    - [while loops](#)\n",
    "1. [Methods](#)\n",
    "1. [Functions](#)\n",
    "1. [Useful Python Commands](#)\n",
    "</div>\n",
    "<br>"
   ]
  },
  {
   "cell_type": "code",
   "execution_count": null,
   "metadata": {},
   "outputs": [],
   "source": []
  }
 ],
 "metadata": {
  "kernelspec": {
   "display_name": "Python 3.8.5 64-bit",
   "language": "python",
   "name": "python3"
  },
  "language_info": {
   "name": "python",
   "version": "3.8.5"
  },
  "orig_nbformat": 4,
  "vscode": {
   "interpreter": {
    "hash": "9650cb4e16cdd4a8e8e2d128bf38d875813998db22a3c986335f89e0cb4d7bb2"
   }
  }
 },
 "nbformat": 4,
 "nbformat_minor": 2
}

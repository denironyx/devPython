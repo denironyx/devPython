{
 "cells": [
  {
   "cell_type": "markdown",
   "metadata": {},
   "source": [
    "# <b><font size=\"7\">Getting started</font></b><br>\n",
    "This is an introduction to python programming.\n",
    "Other complement knowledge with online tutorials such as::<br>\n",
    "https://www.datacamp.com/courses/intro-to-python-for-data-science<br>\n",
    "https://www.edx.org/python-for-data-science<br>\n",
    "https://eu.udacity.com/course/introduction-to-python--ud1110\n",
    "<br>"
   ]
  },
  {
   "cell_type": "markdown",
   "metadata": {},
   "source": [
    "<div class=\"alert alert-block alert-info>\n",
    "<font size=\"6\"><b> Table of Contents </b> </font> <br>\n",
    "\n",
    "1. [First Steps](#First-Steps)\n",
    "1. [Hello World!](#Hello-world!)\n",
    "1. [Variables, Data Types and Data Structures in Python](#Variables,)\n",
    "1. [Operators](#)\n",
    "1. [Introduction to Python Statements](#)\n",
    "    - [if, elif, else statements](#)\n",
    "    - [for loops](#)\n",
    "    - [while loops](#)\n",
    "1. [Methods](#)\n",
    "1. [Functions](#)\n",
    "1. [Useful Python Commands](#)\n",
    "</div>\n",
    "<br>"
   ]
  },
  {
   "cell_type": "markdown",
   "metadata": {},
   "source": [
    "# Setting up\n",
    "\n",
    "Some ways to access Python\n",
    "-   Anaconda\n",
    "-   Integrated Development Environment (IDEs)\n",
    "-   Text Editor\n",
    "    -   Allows you to write code;\n",
    "-   Terminal (via Python / IPython)\n",
    "    -   Allows you to run code;"
   ]
  },
  {
   "cell_type": "markdown",
   "metadata": {},
   "source": [
    "# Anaconda\n",
    "This is one of the most popular python distribution. That sets up a data science oriented working environment in Python. Installation of Anaconda comes with most of the main libraries for data manipulation\n",
    "-   Pandas\n",
    "-   Matplotlib\n",
    "-   Scipy\n",
    "-   Numpy\n",
    "and it's vey easy to use and install"
   ]
  },
  {
   "cell_type": "markdown",
   "metadata": {},
   "source": [
    "# Integrated Development Environment (IDE)\n",
    "Allows you to edit and run code within the same software. Some popular IDEs:\n",
    "-   VSCode\n",
    "-   Pycharm\n",
    "-   Spyder\n",
    "Anaconda comes with inbuilt with Spyder and VScode"
   ]
  },
  {
   "cell_type": "markdown",
   "metadata": {},
   "source": [
    "# Text Editors\n",
    "Allows you to edit code, but not run it. It's lightweight, simple and easy to use and setup"
   ]
  },
  {
   "cell_type": "markdown",
   "metadata": {},
   "source": [
    "## Jupyter Notebooks\n",
    "\n",
    "- A popular IDE\n",
    "- Very useful for exploratory work \n",
    "- We are currently looking at a Jupyter Notebook (in presentation mode!)"
   ]
  },
  {
   "cell_type": "markdown",
   "metadata": {},
   "source": [
    "# Hello, be happy!\n",
    "-   Let's run our first command: Print a \"Hello, be happy!\""
   ]
  },
  {
   "cell_type": "markdown",
   "metadata": {},
   "source": [
    "**print()**\n",
    "> __*Syntax:*__  print(\\*objects,...)<br>\n",
    "__*Definition:*__ The print() function prints the given object to the standard output device (screen) or to the text stream file. <br>\n",
    "__*Parameters: *__ The print() method takes the parameter object: object to the printed. * indicates that there may be more than one object."
   ]
  },
  {
   "cell_type": "code",
   "execution_count": null,
   "metadata": {},
   "outputs": [],
   "source": [
    "print(\"Hello, be happy!\")"
   ]
  },
  {
   "cell_type": "markdown",
   "metadata": {},
   "source": [
    "Python allows you to print things simultaneously: Just like what we have below."
   ]
  },
  {
   "cell_type": "code",
   "execution_count": null,
   "metadata": {},
   "outputs": [],
   "source": [
    "print(\"Twenty divided by ten is: \", 20 / 10)\n",
    "print(\"The square of five is: \", 5 ** 2)"
   ]
  },
  {
   "cell_type": "markdown",
   "metadata": {},
   "source": [
    "\"#\" - this is use to write a comment. Any line of code with that symbol at the front is ignore during compilation."
   ]
  }
 ],
 "metadata": {
  "kernelspec": {
   "display_name": "Python 3.8.5 64-bit",
   "language": "python",
   "name": "python3"
  },
  "language_info": {
   "codemirror_mode": {
    "name": "ipython",
    "version": 3
   },
   "file_extension": ".py",
   "mimetype": "text/x-python",
   "name": "python",
   "nbconvert_exporter": "python",
   "pygments_lexer": "ipython3",
   "version": "3.8.5"
  },
  "orig_nbformat": 4,
  "vscode": {
   "interpreter": {
    "hash": "9650cb4e16cdd4a8e8e2d128bf38d875813998db22a3c986335f89e0cb4d7bb2"
   }
  }
 },
 "nbformat": 4,
 "nbformat_minor": 2
}
